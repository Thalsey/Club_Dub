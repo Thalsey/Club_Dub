{
 "cells": [
  {
   "cell_type": "markdown",
   "metadata": {},
   "source": [
    "Ok now here is the Jupyter Lab for our thing I guess we need this so here we go"
   ]
  },
  {
   "cell_type": "code",
   "execution_count": 2,
   "metadata": {},
   "outputs": [],
   "source": [
    "import pandas as pd\n",
    "import numpy as np\n",
    "%matplotlib inline\n",
    "pd.set_option('display.max_rows',100)"
   ]
  },
  {
   "cell_type": "code",
   "execution_count": 3,
   "metadata": {},
   "outputs": [],
   "source": [
    "import ssl\n",
    "\n",
    "ssl._create_default_https_context = ssl._create_unverified_context"
   ]
  },
  {
   "cell_type": "code",
   "execution_count": 4,
   "metadata": {},
   "outputs": [],
   "source": [
    "pgh_crime_data = pd.read_csv(\"https://data.wprdc.org/datastore/dump/e03a89dd-134a-4ee8-a2bd-62c40aeebc6f\")\n",
    "neighborhoods = pd.read_csv(\"https://data.wprdc.org/dataset/40188e1c-6d2e-4f20-9391-607bd3054949/resource/9890875b-c1d1-4e64-8fc9-a4a8dc433745/download/housing.csv\")\n",
    "neighborhood_list = neighborhoods.loc[:, \"Neighborhood\"]                                             \n",
    "#pgh_crime_data.head()\n",
    "#for i in range(pgh_crime_data[\"INCIDENTNEIGHBORHOOD\"].size):\n",
    "#    if (pgh_crime_data.loc[i, \"INCIDENTNEIGHBORHOOD\"] not in neighborhood_list):\n",
    " #       pgh_crime_data.drop(i)\n",
    "        "
   ]
  },
  {
   "cell_type": "code",
   "execution_count": 6,
   "metadata": {},
   "outputs": [
    {
     "data": {
      "text/html": [
       "<div>\n",
       "<style scoped>\n",
       "    .dataframe tbody tr th:only-of-type {\n",
       "        vertical-align: middle;\n",
       "    }\n",
       "\n",
       "    .dataframe tbody tr th {\n",
       "        vertical-align: top;\n",
       "    }\n",
       "\n",
       "    .dataframe thead th {\n",
       "        text-align: right;\n",
       "    }\n",
       "</style>\n",
       "<table border=\"1\" class=\"dataframe\">\n",
       "  <thead>\n",
       "    <tr style=\"text-align: right;\">\n",
       "      <th></th>\n",
       "      <th>PK</th>\n",
       "      <th>CCR</th>\n",
       "      <th>AGE</th>\n",
       "      <th>GENDER</th>\n",
       "      <th>RACE</th>\n",
       "      <th>ARRESTTIME</th>\n",
       "      <th>ARRESTLOCATION</th>\n",
       "      <th>OFFENSES</th>\n",
       "      <th>INCIDENTLOCATION</th>\n",
       "      <th>INCIDENTZONE</th>\n",
       "      <th>INCIDENTTRACT</th>\n",
       "      <th>COUNCIL_DISTRICT</th>\n",
       "      <th>PUBLIC_WORKS_DIVISION</th>\n",
       "      <th>X</th>\n",
       "      <th>Y</th>\n",
       "    </tr>\n",
       "    <tr>\n",
       "      <th>INCIDENTNEIGHBORHOOD</th>\n",
       "      <th></th>\n",
       "      <th></th>\n",
       "      <th></th>\n",
       "      <th></th>\n",
       "      <th></th>\n",
       "      <th></th>\n",
       "      <th></th>\n",
       "      <th></th>\n",
       "      <th></th>\n",
       "      <th></th>\n",
       "      <th></th>\n",
       "      <th></th>\n",
       "      <th></th>\n",
       "      <th></th>\n",
       "      <th></th>\n",
       "    </tr>\n",
       "  </thead>\n",
       "  <tbody>\n",
       "    <tr>\n",
       "      <th>Allegheny Center</th>\n",
       "      <td>657</td>\n",
       "      <td>657</td>\n",
       "      <td>653</td>\n",
       "      <td>657</td>\n",
       "      <td>657</td>\n",
       "      <td>657</td>\n",
       "      <td>657</td>\n",
       "      <td>657</td>\n",
       "      <td>657</td>\n",
       "      <td>657</td>\n",
       "      <td>657</td>\n",
       "      <td>548</td>\n",
       "      <td>548</td>\n",
       "      <td>657</td>\n",
       "      <td>657</td>\n",
       "    </tr>\n",
       "    <tr>\n",
       "      <th>Allegheny West</th>\n",
       "      <td>75</td>\n",
       "      <td>75</td>\n",
       "      <td>74</td>\n",
       "      <td>75</td>\n",
       "      <td>75</td>\n",
       "      <td>75</td>\n",
       "      <td>75</td>\n",
       "      <td>75</td>\n",
       "      <td>75</td>\n",
       "      <td>75</td>\n",
       "      <td>75</td>\n",
       "      <td>72</td>\n",
       "      <td>72</td>\n",
       "      <td>75</td>\n",
       "      <td>75</td>\n",
       "    </tr>\n",
       "    <tr>\n",
       "      <th>Allentown</th>\n",
       "      <td>542</td>\n",
       "      <td>542</td>\n",
       "      <td>537</td>\n",
       "      <td>542</td>\n",
       "      <td>542</td>\n",
       "      <td>542</td>\n",
       "      <td>542</td>\n",
       "      <td>542</td>\n",
       "      <td>542</td>\n",
       "      <td>542</td>\n",
       "      <td>542</td>\n",
       "      <td>512</td>\n",
       "      <td>512</td>\n",
       "      <td>542</td>\n",
       "      <td>542</td>\n",
       "    </tr>\n",
       "    <tr>\n",
       "      <th>Arlington</th>\n",
       "      <td>168</td>\n",
       "      <td>168</td>\n",
       "      <td>167</td>\n",
       "      <td>168</td>\n",
       "      <td>168</td>\n",
       "      <td>168</td>\n",
       "      <td>168</td>\n",
       "      <td>168</td>\n",
       "      <td>168</td>\n",
       "      <td>168</td>\n",
       "      <td>168</td>\n",
       "      <td>159</td>\n",
       "      <td>159</td>\n",
       "      <td>168</td>\n",
       "      <td>168</td>\n",
       "    </tr>\n",
       "    <tr>\n",
       "      <th>Arlington Heights</th>\n",
       "      <td>101</td>\n",
       "      <td>101</td>\n",
       "      <td>101</td>\n",
       "      <td>101</td>\n",
       "      <td>101</td>\n",
       "      <td>101</td>\n",
       "      <td>101</td>\n",
       "      <td>101</td>\n",
       "      <td>101</td>\n",
       "      <td>101</td>\n",
       "      <td>101</td>\n",
       "      <td>96</td>\n",
       "      <td>96</td>\n",
       "      <td>101</td>\n",
       "      <td>101</td>\n",
       "    </tr>\n",
       "  </tbody>\n",
       "</table>\n",
       "</div>"
      ],
      "text/plain": [
       "                       PK  CCR  AGE  GENDER  RACE  ARRESTTIME  ARRESTLOCATION  \\\n",
       "INCIDENTNEIGHBORHOOD                                                            \n",
       "Allegheny Center      657  657  653     657   657         657             657   \n",
       "Allegheny West         75   75   74      75    75          75              75   \n",
       "Allentown             542  542  537     542   542         542             542   \n",
       "Arlington             168  168  167     168   168         168             168   \n",
       "Arlington Heights     101  101  101     101   101         101             101   \n",
       "\n",
       "                      OFFENSES  INCIDENTLOCATION  INCIDENTZONE  INCIDENTTRACT  \\\n",
       "INCIDENTNEIGHBORHOOD                                                            \n",
       "Allegheny Center           657               657           657            657   \n",
       "Allegheny West              75                75            75             75   \n",
       "Allentown                  542               542           542            542   \n",
       "Arlington                  168               168           168            168   \n",
       "Arlington Heights          101               101           101            101   \n",
       "\n",
       "                      COUNCIL_DISTRICT  PUBLIC_WORKS_DIVISION    X    Y  \n",
       "INCIDENTNEIGHBORHOOD                                                     \n",
       "Allegheny Center                   548                    548  657  657  \n",
       "Allegheny West                      72                     72   75   75  \n",
       "Allentown                          512                    512  542  542  \n",
       "Arlington                          159                    159  168  168  \n",
       "Arlington Heights                   96                     96  101  101  "
      ]
     },
     "execution_count": 6,
     "metadata": {},
     "output_type": "execute_result"
    }
   ],
   "source": [
    "count_neighborhood = pgh_crime_data.groupby(\"INCIDENTNEIGHBORHOOD\").count()\n",
    "count_neighborhood.head()"
   ]
  },
  {
   "cell_type": "code",
   "execution_count": 7,
   "metadata": {},
   "outputs": [
    {
     "data": {
      "text/plain": [
       "INCIDENTNEIGHBORHOOD\n",
       "Mt. Oliver Neighborhood         2\n",
       "Troy Hill-Herrs Island          6\n",
       "Mt. Oliver Boro                12\n",
       "Ridgemont                      14\n",
       "Regent Square                  19\n",
       "Swisshelm Park                 20\n",
       "New Homestead                  22\n",
       "Chartiers City                 23\n",
       "Central Northside              23\n",
       "East Carnegie                  28\n",
       "St. Clair                      31\n",
       "Outside County                 36\n",
       "Outside State                  39\n",
       "Oakwood                        44\n",
       "Summer Hill                    45\n",
       "Windgap                        60\n",
       "Hays                           62\n",
       "Fairywood                      62\n",
       "Glen Hazel                     69\n",
       "Allegheny West                 75\n",
       "Golden Triangle/Civic Arena    83\n",
       "Mount Oliver                   89\n",
       "Polish Hill                    98\n",
       "Name: COUNT, dtype: int64"
      ]
     },
     "execution_count": 7,
     "metadata": {},
     "output_type": "execute_result"
    }
   ],
   "source": [
    "count_neighborhood.sort_values(\"PK\")\n",
    "crime_sorted = count_neighborhood.sort_values(\"PK\")\n",
    "crime_sorted.rename(columns = {\"PK\":\"COUNT\"},inplace = True)\n",
    "crime_sorted_count = crime_sorted.loc[:,\"COUNT\"]\n",
    "crime_sorted_count.head(23)\n",
    "\n"
   ]
  },
  {
   "cell_type": "code",
   "execution_count": 8,
   "metadata": {},
   "outputs": [
    {
     "data": {
      "text/plain": [
       "<matplotlib.axes._subplots.AxesSubplot at 0x7f2c8e3c83c8>"
      ]
     },
     "execution_count": 8,
     "metadata": {},
     "output_type": "execute_result"
    },
    {
     "data": {
      "image/png": "[encoded data removed]",
      "text/plain": [
       "<Figure size 432x288 with 1 Axes>"
      ]
     },
     "metadata": {
      "needs_background": "light"
     },
     "output_type": "display_data"
    }
   ],
   "source": [
    "crime_sorted_count.plot()"
   ]
  },
  {
   "cell_type": "code",
   "execution_count": 9,
   "metadata": {},
   "outputs": [
    {
     "data": {
      "text/plain": [
       "INCIDENTNEIGHBORHOOD\n",
       "Homewood South               1143\n",
       "East Allegheny               1242\n",
       "Carrick                      1331\n",
       "South Side Flats             1956\n",
       "Central Business District    2143\n",
       "Name: COUNT, dtype: int64"
      ]
     },
     "execution_count": 9,
     "metadata": {},
     "output_type": "execute_result"
    }
   ],
   "source": [
    "crime_sorted_count.tail()"
   ]
  },
  {
   "cell_type": "code",
   "execution_count": 10,
   "metadata": {},
   "outputs": [],
   "source": [
    "neighborhoods = pd.read_csv(\"https://data.wprdc.org/dataset/40188e1c-6d2e-4f20-9391-607bd3054949/resource/9890875b-c1d1-4e64-8fc9-a4a8dc433745/download/housing.csv\")\n",
    "                          \n",
    "#neighborhoods.head()"
   ]
  },
  {
   "cell_type": "code",
   "execution_count": 44,
   "metadata": {},
   "outputs": [],
   "source": [
    "count_neighborhood = pgh_crime_data.groupby(\"INCIDENTNEIGHBORHOOD\").count()"
   ]
  },
  {
   "cell_type": "code",
   "execution_count": 43,
   "metadata": {},
   "outputs": [
    {
     "data": {
      "text/plain": [
       "0              Allegheny Center\n",
       "1                Allegheny West\n",
       "2                     Allentown\n",
       "3                     Arlington\n",
       "4             Arlington Heights\n",
       "5                    Banksville\n",
       "6             Bedford Dwellings\n",
       "7                     Beechview\n",
       "8                   Beltzhoover\n",
       "9                    Bloomfield\n",
       "10                        Bluff\n",
       "11                      Bon Air\n",
       "12             Brighton Heights\n",
       "13                    Brookline\n",
       "14         California-Kirkbride\n",
       "15                      Carrick\n",
       "16    Central Business District\n",
       "17        Central Lawrenceville\n",
       "18            Central Northside\n",
       "19              Central Oakland\n",
       "20               Chartiers City\n",
       "21                      Chateau\n",
       "22              Crafton Heights\n",
       "23             Crawford-Roberts\n",
       "24             Duquesne Heights\n",
       "25               East Allegheny\n",
       "26                East Carnegie\n",
       "27                   East Hills\n",
       "28                 East Liberty\n",
       "29                      Elliott\n",
       "30                       Esplen\n",
       "31                    Fairywood\n",
       "32                     Fineview\n",
       "33                   Friendship\n",
       "34                     Garfield\n",
       "35                   Glen Hazel\n",
       "36                   Greenfield\n",
       "37                         Hays\n",
       "38                    Hazelwood\n",
       "39                Highland Park\n",
       "40               Homewood North\n",
       "41               Homewood South\n",
       "42                Homewood West\n",
       "43                    Knoxville\n",
       "44                      Larimer\n",
       "45                Lincoln Place\n",
       "46     Lincoln-Lemington-Belmar\n",
       "47          Lower Lawrenceville\n",
       "48                   Manchester\n",
       "49           Marshall-Shadeland\n",
       "50                  Middle Hill\n",
       "51                  Morningside\n",
       "52             Mount Washington\n",
       "53                   Mt. Oliver\n",
       "54                New Homestead\n",
       "55                North Oakland\n",
       "56                  North Shore\n",
       "57            Northview Heights\n",
       "58                      Oakwood\n",
       "59                    Overbrook\n",
       "60                  Perry North\n",
       "61                  Perry South\n",
       "62                 Point Breeze\n",
       "63           Point Breeze North\n",
       "64                  Polish Hill\n",
       "65                Regent Square\n",
       "66                    Ridgemont\n",
       "67                    Shadyside\n",
       "68                     Sheraden\n",
       "69                South Oakland\n",
       "70                  South Shore\n",
       "71             South Side Flats\n",
       "72            South Side Slopes\n",
       "73                Spring Garden\n",
       "74        Spring Hill-City View\n",
       "75          Squirrel Hill North\n",
       "76          Squirrel Hill South\n",
       "77                    St. Clair\n",
       "78              Stanton Heights\n",
       "79               Strip District\n",
       "80                  Summer Hill\n",
       "81               Swisshelm Park\n",
       "82              Terrace Village\n",
       "83                    Troy Hill\n",
       "84                   Upper Hill\n",
       "85          Upper Lawrenceville\n",
       "86                     West End\n",
       "87                 West Oakland\n",
       "88                     Westwood\n",
       "89                      Windgap\n",
       "Name: Neighborhood, dtype: object"
      ]
     },
     "execution_count": 43,
     "metadata": {},
     "output_type": "execute_result"
    }
   ],
   "source": [
    "neighborhood_list = neighborhoods.loc[:, \"Neighborhood\"]\n",
    "neighborhood_list"
   ]
  },
  {
   "cell_type": "code",
   "execution_count": null,
   "metadata": {},
   "outputs": [],
   "source": [
    "# Create a filter function to knock out any district that had less then 300 total eligable students.\n",
    "schools_new = pgh_schools.loc[pgh_schools['Estimate; Total:'] > 300]"
   ]
  },
  {
   "cell_type": "code",
   "execution_count": null,
   "metadata": {},
   "outputs": [],
   "source": [
    "pd.options.mode.chained_assignment = None\n",
    "school2 = schools_new\n",
    "i = 0\n",
    "\n",
    "while i < school2[\"Id\"].size:\n",
    "    school2.iloc[i, 1] = school2.iloc[i, 4] / school2.iloc[i, 2]\n",
    "    i = i + 1"
   ]
  },
  {
   "cell_type": "code",
   "execution_count": null,
   "metadata": {},
   "outputs": [],
   "source": [
    "school2.sort_values(by=['Id'], inplace=True)\n",
    "i = 0\n",
    "while i < school2[\"Id\"].size:\n",
    "    school2.iloc[i, 1] = school2.iloc[i, 1] * 100\n",
    "    i = i + 1"
   ]
  },
  {
   "cell_type": "code",
   "execution_count": 1,
   "metadata": {},
   "outputs": [
    {
     "ename": "NameError",
     "evalue": "name 'school2' is not defined",
     "output_type": "error",
     "traceback": [
      "\u001b[0;31m---------------------------------------------------------------------------\u001b[0m",
      "\u001b[0;31mNameError\u001b[0m                                 Traceback (most recent call last)",
      "\u001b[0;32m<ipython-input-1-01fffd062787>\u001b[0m in \u001b[0;36m<module>\u001b[0;34m()\u001b[0m\n\u001b[0;32m----> 1\u001b[0;31m \u001b[0mschool2\u001b[0m\u001b[0;34m.\u001b[0m\u001b[0miloc\u001b[0m\u001b[0;34m[\u001b[0m\u001b[0;34m:\u001b[0m\u001b[0;34m,\u001b[0m \u001b[0;36m0\u001b[0m\u001b[0;34m:\u001b[0m\u001b[0;36m2\u001b[0m\u001b[0;34m]\u001b[0m\u001b[0;34m\u001b[0m\u001b[0m\n\u001b[0m",
      "\u001b[0;31mNameError\u001b[0m: name 'school2' is not defined"
     ]
    }
   ],
   "source": [
    "school2.iloc[:, 0:2]"
   ]
  },
  {
   "cell_type": "code",
   "execution_count": null,
   "metadata": {},
   "outputs": [],
   "source": []
  }
 ],
 "metadata": {
  "kernelspec": {
   "display_name": "Python 3.7",
   "language": "python",
   "name": "python3"
  },
  "language_info": {
   "codemirror_mode": {
    "name": "ipython",
    "version": 3
   },
   "file_extension": ".py",
   "mimetype": "text/x-python",
   "name": "python",
   "nbconvert_exporter": "python",
   "pygments_lexer": "ipython3",
   "version": "3.7.0"
  }
 },
 "nbformat": 4,
 "nbformat_minor": 4
}
