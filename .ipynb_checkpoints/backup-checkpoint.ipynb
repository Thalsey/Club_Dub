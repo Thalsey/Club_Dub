{
 "cells": [
  {
   "cell_type": "code",
   "execution_count": null,
   "metadata": {},
   "outputs": [],
   "source": [
    "import pandas as pd\n",
    "import numpy as np\n",
    "%matplotlib inline\n",
    "pd.set_option('display.max_rows',100)"
   ]
  },
  {
   "cell_type": "code",
   "execution_count": null,
   "metadata": {},
   "outputs": [],
   "source": [
    "import ssl\n",
    "\n",
    "ssl._create_default_https_context = ssl._create_unverified_context"
   ]
  },
  {
   "cell_type": "code",
   "execution_count": null,
   "metadata": {},
   "outputs": [],
   "source": [
    "pgh_crime_data = pd.read_csv(\"https://data.wprdc.org/datastore/dump/e03a89dd-134a-4ee8-a2bd-62c40aeebc6f\")\n",
    "neighborhoods = pd.read_csv(\"https://data.wprdc.org/dataset/40188e1c-6d2e-4f20-9391-607bd3054949/resource/9890875b-c1d1-4e64-8fc9-a4a8dc433745/download/housing.csv\")\n",
    "neighborhood_list = neighborhoods.loc[:, \"Neighborhood\"]                                             \n",
    "#pgh_crime_data.head()\n",
    "#for i in range(pgh_crime_data[\"INCIDENTNEIGHBORHOOD\"].size):\n",
    "#    if (pgh_crime_data.loc[i, \"INCIDENTNEIGHBORHOOD\"] not in neighborhood_list):\n",
    " #       pgh_crime_data.drop(i)"
   ]
  },
  {
   "cell_type": "code",
   "execution_count": null,
   "metadata": {},
   "outputs": [],
   "source": [
    "count_neighborhood = pgh_crime_data.groupby(\"INCIDENTNEIGHBORHOOD\").count()\n",
    "count_neighborhood.head()"
   ]
  },
  {
   "cell_type": "code",
   "execution_count": null,
   "metadata": {},
   "outputs": [],
   "source": [
    "count_neighborhood.sort_values(\"PK\")\n",
    "crime_sorted = count_neighborhood.sort_values(\"PK\")\n",
    "crime_sorted.rename(columns = {\"PK\":\"COUNT\"},inplace = True)\n",
    "crime_sorted_count = crime_sorted.loc[:,\"COUNT\"]\n",
    "crime_sorted_count.head(23)"
   ]
  },
  {
   "cell_type": "code",
   "execution_count": null,
   "metadata": {},
   "outputs": [],
   "source": [
    "crime_sorted_count.plot()"
   ]
  },
  {
   "cell_type": "code",
   "execution_count": null,
   "metadata": {},
   "outputs": [],
   "source": [
    "crime_sorted_count.tail()"
   ]
  },
  {
   "cell_type": "code",
   "execution_count": null,
   "metadata": {},
   "outputs": [],
   "source": [
    "neighborhoods = pd.read_csv(\"https://data.wprdc.org/dataset/40188e1c-6d2e-4f20-9391-607bd3054949/resource/9890875b-c1d1-4e64-8fc9-a4a8dc433745/download/housing.csv\")\n",
    "                          \n",
    "#neighborhoods.head()"
   ]
  },
  {
   "cell_type": "code",
   "execution_count": null,
   "metadata": {},
   "outputs": [],
   "source": [
    "count_neighborhood = pgh_crime_data.groupby(\"INCIDENTNEIGHBORHOOD\").count()"
   ]
  },
  {
   "cell_type": "code",
   "execution_count": null,
   "metadata": {},
   "outputs": [],
   "source": [
    "neighborhood_list = neighborhoods.loc[:, \"Neighborhood\"]\n",
    "neighborhood_list"
   ]
  },
  {
   "cell_type": "code",
   "execution_count": null,
   "metadata": {},
   "outputs": [],
   "source": [
    "pgh_schools = pd.read_csv(\"https://data.wprdc.org/dataset/3cb2b9c2-66e2-4ffa-b0a1-35fb2c6f7230/resource/eb1f8714-e0eb-4614-acfe-dfe0ebab942f/download/school-enrollment-by-detailed-level-of-school-for-the-population-3-years-and-over.csv\")\n",
    "pgh_schools.head()"
   ]
  },
  {
   "cell_type": "code",
   "execution_count": null,
   "metadata": {},
   "outputs": [],
   "source": [
    "# Create a filter function to knock out any district that had less then 300 total eligable students.\n",
    "schools_new = pgh_schools.loc[pgh_schools['Estimate; Total:'] > 300]"
   ]
  },
  {
   "cell_type": "code",
   "execution_count": null,
   "metadata": {},
   "outputs": [],
   "source": [
    "pd.options.mode.chained_assignment = None\n",
    "school2 = schools_new\n",
    "i = 0\n",
    "\n",
    "while i < school2[\"Id\"].size:\n",
    "    school2.iloc[i, 1] = school2.iloc[i, 4] / school2.iloc[i, 2]\n",
    "    i = i + 1"
   ]
  },
  {
   "cell_type": "code",
   "execution_count": null,
   "metadata": {},
   "outputs": [],
   "source": [
    "school2.sort_values(by=['Id'], inplace=True)\n",
    "i = 0\n",
    "while i < school2[\"Id\"].size:\n",
    "    school2.iloc[i, 1] = school2.iloc[i, 1] * 100\n",
    "    i = i + 1"
   ]
  },
  {
   "cell_type": "code",
   "execution_count": null,
   "metadata": {},
   "outputs": [],
   "source": [
    "school2.iloc[:, 0:2]"
   ]
  },
  {
   "cell_type": "code",
   "execution_count": null,
   "metadata": {},
   "outputs": [],
   "source": []
  },
  {
   "cell_type": "code",
   "execution_count": null,
   "metadata": {},
   "outputs": [],
   "source": []
  }
 ],
 "metadata": {
  "kernelspec": {
   "display_name": "Python 3.7",
   "language": "python",
   "name": "python3"
  },
  "language_info": {
   "codemirror_mode": {
    "name": "ipython",
    "version": 3
   },
   "file_extension": ".py",
   "mimetype": "text/x-python",
   "name": "python",
   "nbconvert_exporter": "python",
   "pygments_lexer": "ipython3",
   "version": "3.7.0"
  }
 },
 "nbformat": 4,
 "nbformat_minor": 4
}
