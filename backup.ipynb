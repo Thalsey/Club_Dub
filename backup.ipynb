{
 "cells": [
  {
   "cell_type": "markdown",
   "metadata": {},
   "source": [
    "# CLUB DUB AND THE PRIMO NEIGHBORHOOD\n",
    "Hey! We're Spencer Reisig, Dan Li, and Tom Halsey! Here's How we determined the best neighborhood:"
   ]
  },
  {
   "cell_type": "code",
   "execution_count": 1,
   "metadata": {},
   "outputs": [],
   "source": [
    "import pandas as pd\n",
    "import numpy as np\n",
    "%matplotlib inline\n",
    "pd.set_option('display.max_rows',100)"
   ]
  },
  {
   "cell_type": "code",
   "execution_count": 2,
   "metadata": {},
   "outputs": [],
   "source": [
    "import ssl\n",
    "\n",
    "ssl._create_default_https_context = ssl._create_unverified_context"
   ]
  },
  {
   "cell_type": "code",
   "execution_count": 3,
   "metadata": {},
   "outputs": [],
   "source": [
    "pgh_crime_data = pd.read_csv(\"https://data.wprdc.org/datastore/dump/e03a89dd-134a-4ee8-a2bd-62c40aeebc6f\")\n",
    "neighborhoods = pd.read_csv(\"https://data.wprdc.org/dataset/40188e1c-6d2e-4f20-9391-607bd3054949/resource/9890875b-c1d1-4e64-8fc9-a4a8dc433745/download/housing.csv\")\n",
    "neighborhood_list = neighborhoods.loc[:, \"Neighborhood\"]                                             "
   ]
  },
  {
   "cell_type": "code",
   "execution_count": 4,
   "metadata": {},
   "outputs": [
    {
     "data": {
      "text/html": [
       "<div>\n",
       "<style scoped>\n",
       "    .dataframe tbody tr th:only-of-type {\n",
       "        vertical-align: middle;\n",
       "    }\n",
       "\n",
       "    .dataframe tbody tr th {\n",
       "        vertical-align: top;\n",
       "    }\n",
       "\n",
       "    .dataframe thead th {\n",
       "        text-align: right;\n",
       "    }\n",
       "</style>\n",
       "<table border=\"1\" class=\"dataframe\">\n",
       "  <thead>\n",
       "    <tr style=\"text-align: right;\">\n",
       "      <th></th>\n",
       "      <th>PK</th>\n",
       "      <th>CCR</th>\n",
       "      <th>AGE</th>\n",
       "      <th>GENDER</th>\n",
       "      <th>RACE</th>\n",
       "      <th>ARRESTTIME</th>\n",
       "      <th>ARRESTLOCATION</th>\n",
       "      <th>OFFENSES</th>\n",
       "      <th>INCIDENTLOCATION</th>\n",
       "      <th>INCIDENTZONE</th>\n",
       "      <th>INCIDENTTRACT</th>\n",
       "      <th>COUNCIL_DISTRICT</th>\n",
       "      <th>PUBLIC_WORKS_DIVISION</th>\n",
       "      <th>X</th>\n",
       "      <th>Y</th>\n",
       "    </tr>\n",
       "    <tr>\n",
       "      <th>INCIDENTNEIGHBORHOOD</th>\n",
       "      <th></th>\n",
       "      <th></th>\n",
       "      <th></th>\n",
       "      <th></th>\n",
       "      <th></th>\n",
       "      <th></th>\n",
       "      <th></th>\n",
       "      <th></th>\n",
       "      <th></th>\n",
       "      <th></th>\n",
       "      <th></th>\n",
       "      <th></th>\n",
       "      <th></th>\n",
       "      <th></th>\n",
       "      <th></th>\n",
       "    </tr>\n",
       "  </thead>\n",
       "  <tbody>\n",
       "    <tr>\n",
       "      <th>Allegheny Center</th>\n",
       "      <td>675</td>\n",
       "      <td>675</td>\n",
       "      <td>671</td>\n",
       "      <td>675</td>\n",
       "      <td>675</td>\n",
       "      <td>675</td>\n",
       "      <td>675</td>\n",
       "      <td>675</td>\n",
       "      <td>675</td>\n",
       "      <td>675</td>\n",
       "      <td>675</td>\n",
       "      <td>561</td>\n",
       "      <td>561</td>\n",
       "      <td>675</td>\n",
       "      <td>675</td>\n",
       "    </tr>\n",
       "    <tr>\n",
       "      <th>Allegheny West</th>\n",
       "      <td>76</td>\n",
       "      <td>76</td>\n",
       "      <td>75</td>\n",
       "      <td>76</td>\n",
       "      <td>76</td>\n",
       "      <td>76</td>\n",
       "      <td>76</td>\n",
       "      <td>76</td>\n",
       "      <td>76</td>\n",
       "      <td>76</td>\n",
       "      <td>76</td>\n",
       "      <td>73</td>\n",
       "      <td>73</td>\n",
       "      <td>76</td>\n",
       "      <td>76</td>\n",
       "    </tr>\n",
       "    <tr>\n",
       "      <th>Allentown</th>\n",
       "      <td>553</td>\n",
       "      <td>553</td>\n",
       "      <td>548</td>\n",
       "      <td>553</td>\n",
       "      <td>553</td>\n",
       "      <td>553</td>\n",
       "      <td>553</td>\n",
       "      <td>553</td>\n",
       "      <td>553</td>\n",
       "      <td>553</td>\n",
       "      <td>553</td>\n",
       "      <td>523</td>\n",
       "      <td>523</td>\n",
       "      <td>553</td>\n",
       "      <td>553</td>\n",
       "    </tr>\n",
       "    <tr>\n",
       "      <th>Arlington</th>\n",
       "      <td>171</td>\n",
       "      <td>171</td>\n",
       "      <td>170</td>\n",
       "      <td>171</td>\n",
       "      <td>171</td>\n",
       "      <td>171</td>\n",
       "      <td>171</td>\n",
       "      <td>171</td>\n",
       "      <td>171</td>\n",
       "      <td>171</td>\n",
       "      <td>171</td>\n",
       "      <td>161</td>\n",
       "      <td>161</td>\n",
       "      <td>171</td>\n",
       "      <td>171</td>\n",
       "    </tr>\n",
       "    <tr>\n",
       "      <th>Arlington Heights</th>\n",
       "      <td>101</td>\n",
       "      <td>101</td>\n",
       "      <td>101</td>\n",
       "      <td>101</td>\n",
       "      <td>101</td>\n",
       "      <td>101</td>\n",
       "      <td>101</td>\n",
       "      <td>101</td>\n",
       "      <td>101</td>\n",
       "      <td>101</td>\n",
       "      <td>101</td>\n",
       "      <td>96</td>\n",
       "      <td>96</td>\n",
       "      <td>101</td>\n",
       "      <td>101</td>\n",
       "    </tr>\n",
       "  </tbody>\n",
       "</table>\n",
       "</div>"
      ],
      "text/plain": [
       "                       PK  CCR  AGE  GENDER  RACE  ARRESTTIME  ARRESTLOCATION  \\\n",
       "INCIDENTNEIGHBORHOOD                                                            \n",
       "Allegheny Center      675  675  671     675   675         675             675   \n",
       "Allegheny West         76   76   75      76    76          76              76   \n",
       "Allentown             553  553  548     553   553         553             553   \n",
       "Arlington             171  171  170     171   171         171             171   \n",
       "Arlington Heights     101  101  101     101   101         101             101   \n",
       "\n",
       "                      OFFENSES  INCIDENTLOCATION  INCIDENTZONE  INCIDENTTRACT  \\\n",
       "INCIDENTNEIGHBORHOOD                                                            \n",
       "Allegheny Center           675               675           675            675   \n",
       "Allegheny West              76                76            76             76   \n",
       "Allentown                  553               553           553            553   \n",
       "Arlington                  171               171           171            171   \n",
       "Arlington Heights          101               101           101            101   \n",
       "\n",
       "                      COUNCIL_DISTRICT  PUBLIC_WORKS_DIVISION    X    Y  \n",
       "INCIDENTNEIGHBORHOOD                                                     \n",
       "Allegheny Center                   561                    561  675  675  \n",
       "Allegheny West                      73                     73   76   76  \n",
       "Allentown                          523                    523  553  553  \n",
       "Arlington                          161                    161  171  171  \n",
       "Arlington Heights                   96                     96  101  101  "
      ]
     },
     "execution_count": 4,
     "metadata": {},
     "output_type": "execute_result"
    }
   ],
   "source": [
    "count_neighborhood = pgh_crime_data.groupby(\"INCIDENTNEIGHBORHOOD\").count()\n",
    "count_neighborhood.head()"
   ]
  },
  {
   "cell_type": "code",
   "execution_count": 5,
   "metadata": {},
   "outputs": [
    {
     "data": {
      "text/plain": [
       "INCIDENTNEIGHBORHOOD\n",
       "Mt. Oliver Neighborhood         2\n",
       "Troy Hill-Herrs Island          6\n",
       "Mt. Oliver Boro                12\n",
       "Ridgemont                      15\n",
       "Regent Square                  19\n",
       "Swisshelm Park                 20\n",
       "New Homestead                  23\n",
       "Chartiers City                 23\n",
       "Central Northside              23\n",
       "East Carnegie                  29\n",
       "St. Clair                      32\n",
       "Outside County                 38\n",
       "Outside State                  39\n",
       "Oakwood                        45\n",
       "Summer Hill                    46\n",
       "Windgap                        60\n",
       "Hays                           62\n",
       "Fairywood                      63\n",
       "Glen Hazel                     70\n",
       "Allegheny West                 76\n",
       "Golden Triangle/Civic Arena    83\n",
       "Mount Oliver                   90\n",
       "Polish Hill                    99\n",
       "Name: COUNT, dtype: int64"
      ]
     },
     "execution_count": 5,
     "metadata": {},
     "output_type": "execute_result"
    }
   ],
   "source": [
    "count_neighborhood.sort_values(\"PK\")\n",
    "crime_sorted = count_neighborhood.sort_values(\"PK\")\n",
    "crime_sorted.rename(columns = {\"PK\":\"COUNT\"},inplace = True)\n",
    "crime_sorted_count = crime_sorted.loc[:,\"COUNT\"]\n",
    "crime_sorted_count.head(23)"
   ]
  },
  {
   "cell_type": "markdown",
   "metadata": {},
   "source": [
    "Lets check out a graph of which neighborhoods have the most crime!"
   ]
  },
  {
   "cell_type": "code",
   "execution_count": 6,
   "metadata": {},
   "outputs": [
    {
     "data": {
      "text/plain": [
       "<matplotlib.axes._subplots.AxesSubplot at 0x7f700db60208>"
      ]
     },
     "execution_count": 6,
     "metadata": {},
     "output_type": "execute_result"
    },
    {
     "data": {
      "image/png": "[encoded data removed]",
      "text/plain": [
       "<Figure size 432x288 with 1 Axes>"
      ]
     },
     "metadata": {
      "needs_background": "light"
     },
     "output_type": "display_data"
    }
   ],
   "source": [
    "crime_sorted_count.plot.barh(x=('Crime Count'), figsize = (15, 15), fontsize = 7)"
   ]
  },
  {
   "cell_type": "code",
   "execution_count": null,
   "metadata": {},
   "outputs": [],
   "source": [
    "crime_sorted_count.tail()"
   ]
  },
  {
   "cell_type": "code",
   "execution_count": null,
   "metadata": {},
   "outputs": [],
   "source": [
    "neighborhoods = pd.read_csv(\"https://data.wprdc.org/dataset/40188e1c-6d2e-4f20-9391-607bd3054949/resource/9890875b-c1d1-4e64-8fc9-a4a8dc433745/download/housing.csv\")\n",
    "                          \n",
    "#neighborhoods.head()"
   ]
  },
  {
   "cell_type": "code",
   "execution_count": null,
   "metadata": {},
   "outputs": [],
   "source": [
    "count_neighborhood = pgh_crime_data.groupby(\"INCIDENTNEIGHBORHOOD\").count()"
   ]
  },
  {
   "cell_type": "code",
   "execution_count": null,
   "metadata": {},
   "outputs": [],
   "source": [
    "neighborhood_list = neighborhoods.loc[:, \"Neighborhood\"]\n",
    "neighborhood_list"
   ]
  },
  {
   "cell_type": "code",
   "execution_count": null,
   "metadata": {},
   "outputs": [],
   "source": [
    "pgh_schools = pd.read_csv(\"https://data.wprdc.org/dataset/3cb2b9c2-66e2-4ffa-b0a1-35fb2c6f7230/resource/eb1f8714-e0eb-4614-acfe-dfe0ebab942f/download/school-enrollment-by-detailed-level-of-school-for-the-population-3-years-and-over.csv\")\n",
    "pgh_schools.head()"
   ]
  },
  {
   "cell_type": "code",
   "execution_count": null,
   "metadata": {},
   "outputs": [],
   "source": [
    "# Create a filter function to knock out any district that had less then 300 total eligable students.\n",
    "schools_new = pgh_schools.loc[pgh_schools['Estimate; Total:'] > 300]"
   ]
  },
  {
   "cell_type": "code",
   "execution_count": null,
   "metadata": {},
   "outputs": [],
   "source": [
    "pd.options.mode.chained_assignment = None\n",
    "school2 = schools_new\n",
    "i = 0\n",
    "\n",
    "while i < school2[\"Id\"].size:\n",
    "    school2.iloc[i, 1] = school2.iloc[i, 4] / school2.iloc[i, 2]\n",
    "    i = i + 1"
   ]
  },
  {
   "cell_type": "code",
   "execution_count": null,
   "metadata": {},
   "outputs": [],
   "source": [
    "school2.sort_values(by=['Id'], inplace=True)\n",
    "i = 0\n",
    "while i < school2[\"Id\"].size:\n",
    "    school2.iloc[i, 1] = school2.iloc[i, 1] * 100\n",
    "    i = i + 1"
   ]
  },
  {
   "cell_type": "code",
   "execution_count": null,
   "metadata": {},
   "outputs": [],
   "source": [
    "school2.iloc[:, 0:2]"
   ]
  },
  {
   "cell_type": "code",
   "execution_count": null,
   "metadata": {},
   "outputs": [],
   "source": []
  },
  {
   "cell_type": "code",
   "execution_count": null,
   "metadata": {},
   "outputs": [],
   "source": []
  }
 ],
 "metadata": {
  "kernelspec": {
   "display_name": "Python 3.7",
   "language": "python",
   "name": "python3"
  },
  "language_info": {
   "codemirror_mode": {
    "name": "ipython",
    "version": 3
   },
   "file_extension": ".py",
   "mimetype": "text/x-python",
   "name": "python",
   "nbconvert_exporter": "python",
   "pygments_lexer": "ipython3",
   "version": "3.7.0"
  }
 },
 "nbformat": 4,
 "nbformat_minor": 4
}
